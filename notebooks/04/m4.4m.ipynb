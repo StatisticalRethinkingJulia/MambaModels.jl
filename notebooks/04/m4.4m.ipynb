{
 "cells": [
  {
   "outputs": [],
   "cell_type": "code",
   "source": [
    "using MambaModels, Mamba\n",
    "\n",
    "# Data\n",
    "line = Dict{Symbol, Any}()\n",
    "\n",
    "howell1 = CSV.read(rel_path(\"..\", \"data\", \"Howell1.csv\"), delim=';')\n",
    "df = convert(DataFrame, howell1);"
   ],
   "metadata": {},
   "execution_count": 1
  },
  {
   "outputs": [],
   "cell_type": "markdown",
   "source": [
    "Use only adults"
   ],
   "metadata": {}
  },
  {
   "outputs": [
    {
     "output_type": "execute_result",
     "data": {
      "text/plain": "352×2 Array{Float64,2}:\n 1.0    2.83512\n 1.0   -8.50468\n 1.0  -13.1256 \n 1.0    8.05143\n 1.0   -3.71361\n 1.0   18.0021 \n 1.0   -6.74701\n 1.0   10.4895 \n 1.0  -10.1206 \n 1.0    9.49725\n ⋮             \n 1.0    2.89182\n 1.0   -5.58468\n 1.0   -3.94041\n 1.0   -4.16721\n 1.0    2.04133\n 1.0  -10.7443 \n 1.0    7.17259\n 1.0    9.07201\n 1.0    7.54114"
     },
     "metadata": {},
     "execution_count": 2
    }
   ],
   "cell_type": "code",
   "source": [
    "df2 = filter(row -> row[:age] >= 18, df);\n",
    "mean_weight = mean(df2[:weight])\n",
    "df2[:weight_c] = convert(Vector{Float64}, df2[:weight]) .- mean_weight ;\n",
    "line[:x] = convert(Array{Float64,1}, df2[:weight_c]);\n",
    "line[:y] = convert(Array{Float64,1}, df2[:height]);\n",
    "line[:xmat] = convert(Array{Float64,2}, [ones(length(line[:x])) line[:x]])"
   ],
   "metadata": {},
   "execution_count": 2
  },
  {
   "outputs": [],
   "cell_type": "markdown",
   "source": [
    "Model Specification"
   ],
   "metadata": {}
  },
  {
   "outputs": [
    {
     "output_type": "execute_result",
     "data": {
      "text/plain": "Object of type \"Model\"\n-------------------------------------------------------------------------------\nbeta:\nA monitored node of type \"0-element ArrayStochastic{1}\"\nFloat64[]\n-------------------------------------------------------------------------------\ny:\nAn unmonitored node of type \"0-element ArrayStochastic{1}\"\nFloat64[]\n-------------------------------------------------------------------------------\ns2:\nA monitored node of type \"ScalarStochastic\"\nNaN\n"
     },
     "metadata": {},
     "execution_count": 3
    }
   ],
   "cell_type": "code",
   "source": [
    "model = Model(\n",
    "  y = Stochastic(1,\n",
    "    (xmat, beta, s2) -> MvNormal(xmat * beta, sqrt(s2)),\n",
    "    false\n",
    "  ),\n",
    "  beta = Stochastic(1, () -> MvNormal([178, 0], [sqrt(10000), sqrt(100)])),\n",
    "  s2 = Stochastic(() -> Uniform(0, 50))\n",
    ")"
   ],
   "metadata": {},
   "execution_count": 3
  },
  {
   "outputs": [],
   "cell_type": "markdown",
   "source": [
    "Initial Values"
   ],
   "metadata": {}
  },
  {
   "outputs": [
    {
     "output_type": "execute_result",
     "data": {
      "text/plain": "3-element Array{Dict{Symbol,Any},1}:\n Dict(:beta=>[188.575, -7.45719],:y=>[151.765, 139.7, 136.525, 156.845, 145.415, 163.83, 149.225, 168.91, 147.955, 165.1  …  156.21, 160.655, 146.05, 156.21, 152.4, 162.56, 142.875, 162.56, 156.21, 158.75],:s2=>44.3773)\n Dict(:beta=>[-34.9119, 4.48206],:y=>[151.765, 139.7, 136.525, 156.845, 145.415, 163.83, 149.225, 168.91, 147.955, 165.1  …  156.21, 160.655, 146.05, 156.21, 152.4, 162.56, 142.875, 162.56, 156.21, 158.75],:s2=>49.3563)\n Dict(:beta=>[303.128, 4.9742],:y=>[151.765, 139.7, 136.525, 156.845, 145.415, 163.83, 149.225, 168.91, 147.955, 165.1  …  156.21, 160.655, 146.05, 156.21, 152.4, 162.56, 142.875, 162.56, 156.21, 158.75],:s2=>22.0901)  "
     },
     "metadata": {},
     "execution_count": 4
    }
   ],
   "cell_type": "code",
   "source": [
    "inits = [\n",
    "  Dict{Symbol, Any}(\n",
    "    :y => line[:y],\n",
    "    :beta => [rand(Normal(178, 100)), rand(Normal(0, 10))],\n",
    "    :s2 => rand(Uniform(0, 50))\n",
    "  )\n",
    "  for i in 1:3\n",
    "]"
   ],
   "metadata": {},
   "execution_count": 4
  },
  {
   "outputs": [],
   "cell_type": "markdown",
   "source": [
    "Tuning Parameters"
   ],
   "metadata": {}
  },
  {
   "outputs": [
    {
     "output_type": "execute_result",
     "data": {
      "text/plain": "0.1"
     },
     "metadata": {},
     "execution_count": 5
    }
   ],
   "cell_type": "code",
   "source": [
    "scale1 = [0.5, 0.25]\n",
    "summary1 = identity\n",
    "eps1 = 0.5\n",
    "\n",
    "scale2 = 0.5\n",
    "summary2 = x -> [mean(x); sqrt(var(x))]\n",
    "eps2 = 0.1"
   ],
   "metadata": {},
   "execution_count": 5
  },
  {
   "outputs": [],
   "cell_type": "markdown",
   "source": [
    "Define sampling scheme"
   ],
   "metadata": {}
  },
  {
   "outputs": [
    {
     "output_type": "execute_result",
     "data": {
      "text/plain": "Object of type \"Model\"\n-------------------------------------------------------------------------------\nbeta:\nA monitored node of type \"0-element ArrayStochastic{1}\"\nFloat64[]\n-------------------------------------------------------------------------------\ny:\nAn unmonitored node of type \"0-element ArrayStochastic{1}\"\nFloat64[]\n-------------------------------------------------------------------------------\ns2:\nA monitored node of type \"ScalarStochastic\"\nNaN\n"
     },
     "metadata": {},
     "execution_count": 6
    }
   ],
   "cell_type": "code",
   "source": [
    "scheme = [\n",
    "  Mamba.NUTS([:beta]),\n",
    "  Mamba.Slice([:s2], 10)\n",
    "]\n",
    "\n",
    "setsamplers!(model, scheme)"
   ],
   "metadata": {},
   "execution_count": 6
  },
  {
   "outputs": [],
   "cell_type": "markdown",
   "source": [
    "MCMC Simulation"
   ],
   "metadata": {}
  },
  {
   "outputs": [
    {
     "name": "stdout",
     "output_type": "stream",
     "text": [
      "MCMC Simulation of 10000 Iterations x 3 Chains...\n",
      "\n",
      "Chain 1:   0% [0:00:19 of 0:00:19 remaining]\n",
      "Chain 1:  10% [0:00:03 of 0:00:03 remaining]\n",
      "Chain 1:  20% [0:00:03 of 0:00:03 remaining]\n",
      "Chain 1:  30% [0:00:02 of 0:00:03 remaining]\n",
      "Chain 1:  40% [0:00:02 of 0:00:03 remaining]\n",
      "Chain 1:  50% [0:00:02 of 0:00:03 remaining]\n",
      "Chain 1:  60% [0:00:01 of 0:00:03 remaining]\n",
      "Chain 1:  70% [0:00:01 of 0:00:03 remaining]\n",
      "Chain 1:  80% [0:00:01 of 0:00:03 remaining]\n",
      "Chain 1:  90% [0:00:00 of 0:00:03 remaining]\n",
      "Chain 1: 100% [0:00:00 of 0:00:03 remaining]\n",
      "\n",
      "Chain 2:   0% [0:00:04 of 0:00:04 remaining]\n",
      "Chain 2:  10% [0:00:03 of 0:00:03 remaining]\n",
      "Chain 2:  20% [0:00:03 of 0:00:03 remaining]\n",
      "Chain 2:  30% [0:00:02 of 0:00:03 remaining]\n",
      "Chain 2:  40% [0:00:02 of 0:00:03 remaining]\n",
      "Chain 2:  50% [0:00:02 of 0:00:03 remaining]\n",
      "Chain 2:  60% [0:00:01 of 0:00:03 remaining]\n",
      "Chain 2:  70% [0:00:01 of 0:00:03 remaining]\n",
      "Chain 2:  80% [0:00:01 of 0:00:03 remaining]\n",
      "Chain 2:  90% [0:00:00 of 0:00:03 remaining]\n",
      "Chain 2: 100% [0:00:00 of 0:00:03 remaining]\n",
      "\n",
      "Chain 3:   0% [0:00:03 of 0:00:03 remaining]\n",
      "Chain 3:  10% [0:00:03 of 0:00:03 remaining]\n",
      "Chain 3:  20% [0:00:03 of 0:00:03 remaining]\n",
      "Chain 3:  30% [0:00:02 of 0:00:03 remaining]\n",
      "Chain 3:  40% [0:00:02 of 0:00:03 remaining]\n",
      "Chain 3:  50% [0:00:02 of 0:00:03 remaining]\n",
      "Chain 3:  60% [0:00:01 of 0:00:03 remaining]\n",
      "Chain 3:  70% [0:00:01 of 0:00:03 remaining]\n",
      "Chain 3:  80% [0:00:01 of 0:00:03 remaining]\n",
      "Chain 3:  90% [0:00:00 of 0:00:03 remaining]\n",
      "Chain 3: 100% [0:00:00 of 0:00:03 remaining]\n",
      "\n"
     ]
    },
    {
     "output_type": "execute_result",
     "data": {
      "text/plain": "Object of type \"ModelChains\"\n\nIterations = 1001:10000\nThinning interval = 1\nChains = 1,2,3\nSamples per chain = 9000\n\n[28.4293 154.413 0.968027; 23.9516 154.47 0.953985; … ; 25.2441 154.733 0.860705; 25.1193 154.733 0.860705]\n\n[24.1879 154.658 0.918832; 24.0408 154.346 0.91763; … ; 29.4184 154.974 0.850955; 29.2723 154.976 0.872956]\n\n[28.2272 154.759 0.918082; 27.9374 154.257 0.937243; … ; 26.667 154.732 0.886742; 26.3659 154.582 0.882689]"
     },
     "metadata": {},
     "execution_count": 7
    }
   ],
   "cell_type": "code",
   "source": [
    "chn = mcmc(model, line, inits, 10000, burnin=1000, chains=3)"
   ],
   "metadata": {},
   "execution_count": 7
  },
  {
   "outputs": [],
   "cell_type": "markdown",
   "source": [
    "Show draws summary"
   ],
   "metadata": {}
  },
  {
   "outputs": [
    {
     "name": "stdout",
     "output_type": "stream",
     "text": [
      "Iterations = 1001:10000\n",
      "Thinning interval = 1\n",
      "Chains = 1,2,3\n",
      "Samples per chain = 9000\n",
      "\n",
      "Empirical Posterior Estimates:\n",
      "           Mean        SD        Naive SE        MCSE        ESS  \n",
      "     s2  26.138793 2.01920729 0.01228850424 0.01950587222 9000.000\n",
      "beta[1] 154.596386 0.26666244 0.00162285590 0.00339166517 6181.555\n",
      "beta[2]   0.904958 0.04219299 0.00025677836 0.00031833564 9000.000\n",
      "\n",
      "Quantiles:\n",
      "            2.5%         25.0%       50.0%        75.0%       97.5%   \n",
      "     s2  22.47957981  24.73817568  26.0156453  27.42342638  30.4184854\n",
      "beta[1] 154.08558277 154.41128183 154.5905624 154.77770219 155.1374824\n",
      "beta[2]   0.82217774   0.87652145   0.9050816   0.93315194   0.9871476\n",
      "\n"
     ]
    }
   ],
   "cell_type": "code",
   "source": [
    "describe(chn)"
   ],
   "metadata": {},
   "execution_count": 8
  },
  {
   "outputs": [],
   "cell_type": "markdown",
   "source": [
    "End of `m4.1m.jl`"
   ],
   "metadata": {}
  },
  {
   "outputs": [],
   "cell_type": "markdown",
   "source": [
    "*This notebook was generated using [Literate.jl](https://github.com/fredrikekre/Literate.jl).*"
   ],
   "metadata": {}
  }
 ],
 "nbformat_minor": 3,
 "metadata": {
  "language_info": {
   "file_extension": ".jl",
   "mimetype": "application/julia",
   "name": "julia",
   "version": "1.2.0-DEV.272"
  },
  "kernelspec": {
   "name": "julia-1.2",
   "display_name": "Julia 1.2.0-DEV.272",
   "language": "julia"
  }
 },
 "nbformat": 4
}
