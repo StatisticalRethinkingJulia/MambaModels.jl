{
 "cells": [
  {
   "outputs": [],
   "cell_type": "code",
   "source": [
    "using MambaModels\n",
    "\n",
    "# Data\n",
    "line = Dict{Symbol, Any}()\n",
    "\n",
    "howell1 = CSV.read(rel_path(\"..\", \"data\", \"Howell1.csv\"), delim=';')\n",
    "df = convert(DataFrame, howell1);"
   ],
   "metadata": {},
   "execution_count": 1
  },
  {
   "outputs": [],
   "cell_type": "markdown",
   "source": [
    "Use only adults"
   ],
   "metadata": {}
  },
  {
   "outputs": [
    {
     "output_type": "execute_result",
     "data": {
      "text/plain": "352×2 Array{Float64,2}:\n 1.0    2.83512\n 1.0   -8.50468\n 1.0  -13.1256 \n 1.0    8.05143\n 1.0   -3.71361\n 1.0   18.0021 \n 1.0   -6.74701\n 1.0   10.4895 \n 1.0  -10.1206 \n 1.0    9.49725\n ⋮             \n 1.0    2.89182\n 1.0   -5.58468\n 1.0   -3.94041\n 1.0   -4.16721\n 1.0    2.04133\n 1.0  -10.7443 \n 1.0    7.17259\n 1.0    9.07201\n 1.0    7.54114"
     },
     "metadata": {},
     "execution_count": 2
    }
   ],
   "cell_type": "code",
   "source": [
    "df2 = filter(row -> row[:age] >= 18, df);\n",
    "mean_weight = mean(df2[:weight])\n",
    "df2[:weight_c] = convert(Vector{Float64}, df2[:weight]) .- mean_weight ;\n",
    "line[:x] = convert(Array{Float64,1}, df2[:weight_c]);\n",
    "line[:y] = convert(Array{Float64,1}, df2[:height]);\n",
    "line[:xmat] = convert(Array{Float64,2}, [ones(length(line[:x])) line[:x]])"
   ],
   "metadata": {},
   "execution_count": 2
  },
  {
   "outputs": [],
   "cell_type": "markdown",
   "source": [
    "Model Specification"
   ],
   "metadata": {}
  },
  {
   "outputs": [
    {
     "output_type": "execute_result",
     "data": {
      "text/plain": "Object of type \"Model\"\n-------------------------------------------------------------------------------\nbeta:\nA monitored node of type \"0-element ArrayStochastic{1}\"\nFloat64[]\n-------------------------------------------------------------------------------\ny:\nAn unmonitored node of type \"0-element ArrayStochastic{1}\"\nFloat64[]\n-------------------------------------------------------------------------------\ns2:\nA monitored node of type \"ScalarStochastic\"\nNaN\n"
     },
     "metadata": {},
     "execution_count": 3
    }
   ],
   "cell_type": "code",
   "source": [
    "model = Model(\n",
    "  y = Stochastic(1,\n",
    "    (xmat, beta, s2) -> MvNormal(xmat * beta, sqrt(s2)),\n",
    "    false\n",
    "  ),\n",
    "  beta = Stochastic(1, () -> MvNormal([178, 0], [sqrt(10000), sqrt(100)])),\n",
    "  s2 = Stochastic(() -> Uniform(0, 50))\n",
    ")"
   ],
   "metadata": {},
   "execution_count": 3
  },
  {
   "outputs": [],
   "cell_type": "markdown",
   "source": [
    "Initial Values"
   ],
   "metadata": {}
  },
  {
   "outputs": [
    {
     "output_type": "execute_result",
     "data": {
      "text/plain": "3-element Array{Dict{Symbol,Any},1}:\n Dict(:beta=>[92.0371, -0.276722],:y=>[151.765, 139.7, 136.525, 156.845, 145.415, 163.83, 149.225, 168.91, 147.955, 165.1  …  156.21, 160.655, 146.05, 156.21, 152.4, 162.56, 142.875, 162.56, 156.21, 158.75],:s2=>20.6571)\n Dict(:beta=>[154.34, 6.38961],:y=>[151.765, 139.7, 136.525, 156.845, 145.415, 163.83, 149.225, 168.91, 147.955, 165.1  …  156.21, 160.655, 146.05, 156.21, 152.4, 162.56, 142.875, 162.56, 156.21, 158.75],:s2=>6.28509)   \n Dict(:beta=>[334.046, 0.346906],:y=>[151.765, 139.7, 136.525, 156.845, 145.415, 163.83, 149.225, 168.91, 147.955, 165.1  …  156.21, 160.655, 146.05, 156.21, 152.4, 162.56, 142.875, 162.56, 156.21, 158.75],:s2=>36.0937) "
     },
     "metadata": {},
     "execution_count": 4
    }
   ],
   "cell_type": "code",
   "source": [
    "inits = [\n",
    "  Dict{Symbol, Any}(\n",
    "    :y => line[:y],\n",
    "    :beta => [rand(Normal(178, 100)), rand(Normal(0, 10))],\n",
    "    :s2 => rand(Uniform(0, 50))\n",
    "  )\n",
    "  for i in 1:3\n",
    "]"
   ],
   "metadata": {},
   "execution_count": 4
  },
  {
   "outputs": [],
   "cell_type": "markdown",
   "source": [
    "Tuning Parameters"
   ],
   "metadata": {}
  },
  {
   "outputs": [
    {
     "output_type": "execute_result",
     "data": {
      "text/plain": "0.1"
     },
     "metadata": {},
     "execution_count": 5
    }
   ],
   "cell_type": "code",
   "source": [
    "scale1 = [0.5, 0.25]\n",
    "summary1 = identity\n",
    "eps1 = 0.5\n",
    "\n",
    "scale2 = 0.5\n",
    "summary2 = x -> [mean(x); sqrt(var(x))]\n",
    "eps2 = 0.1"
   ],
   "metadata": {},
   "execution_count": 5
  },
  {
   "outputs": [],
   "cell_type": "markdown",
   "source": [
    "Define sampling scheme"
   ],
   "metadata": {}
  },
  {
   "outputs": [
    {
     "output_type": "execute_result",
     "data": {
      "text/plain": "Object of type \"Model\"\n-------------------------------------------------------------------------------\nbeta:\nA monitored node of type \"0-element ArrayStochastic{1}\"\nFloat64[]\n-------------------------------------------------------------------------------\ny:\nAn unmonitored node of type \"0-element ArrayStochastic{1}\"\nFloat64[]\n-------------------------------------------------------------------------------\ns2:\nA monitored node of type \"ScalarStochastic\"\nNaN\n"
     },
     "metadata": {},
     "execution_count": 6
    }
   ],
   "cell_type": "code",
   "source": [
    "scheme = [\n",
    "  Mamba.NUTS([:beta]),\n",
    "  Mamba.Slice([:s2], 10)\n",
    "]\n",
    "\n",
    "setsamplers!(model, scheme)"
   ],
   "metadata": {},
   "execution_count": 6
  },
  {
   "outputs": [],
   "cell_type": "markdown",
   "source": [
    "MCMC Simulation"
   ],
   "metadata": {}
  },
  {
   "outputs": [
    {
     "name": "stdout",
     "output_type": "stream",
     "text": [
      "MCMC Simulation of 10000 Iterations x 3 Chains...\n",
      "\n",
      "Chain 1:   0% [0:00:07 of 0:00:07 remaining]\n",
      "Chain 1:  10% [0:00:03 of 0:00:03 remaining]\n",
      "Chain 1:  20% [0:00:03 of 0:00:03 remaining]\n",
      "Chain 1:  30% [0:00:02 of 0:00:03 remaining]\n",
      "Chain 1:  40% [0:00:02 of 0:00:03 remaining]\n",
      "Chain 1:  50% [0:00:02 of 0:00:03 remaining]\n",
      "Chain 1:  60% [0:00:01 of 0:00:03 remaining]\n",
      "Chain 1:  70% [0:00:01 of 0:00:03 remaining]\n",
      "Chain 1:  80% [0:00:01 of 0:00:03 remaining]\n",
      "Chain 1:  90% [0:00:00 of 0:00:03 remaining]\n",
      "Chain 1: 100% [0:00:00 of 0:00:03 remaining]\n",
      "\n",
      "Chain 2:   0% [0:00:04 of 0:00:04 remaining]\n",
      "Chain 2:  10% [0:00:03 of 0:00:03 remaining]\n",
      "Chain 2:  20% [0:00:03 of 0:00:03 remaining]\n",
      "Chain 2:  30% [0:00:02 of 0:00:03 remaining]\n",
      "Chain 2:  40% [0:00:02 of 0:00:03 remaining]\n",
      "Chain 2:  50% [0:00:02 of 0:00:03 remaining]\n",
      "Chain 2:  60% [0:00:01 of 0:00:03 remaining]\n",
      "Chain 2:  70% [0:00:01 of 0:00:03 remaining]\n",
      "Chain 2:  80% [0:00:01 of 0:00:03 remaining]\n",
      "Chain 2:  90% [0:00:00 of 0:00:03 remaining]\n",
      "Chain 2: 100% [0:00:00 of 0:00:03 remaining]\n",
      "\n",
      "Chain 3:   0% [0:00:09 of 0:00:09 remaining]\n",
      "Chain 3:  10% [0:00:03 of 0:00:03 remaining]\n",
      "Chain 3:  20% [0:00:02 of 0:00:03 remaining]\n",
      "Chain 3:  30% [0:00:02 of 0:00:03 remaining]\n",
      "Chain 3:  40% [0:00:02 of 0:00:03 remaining]\n",
      "Chain 3:  50% [0:00:02 of 0:00:03 remaining]\n",
      "Chain 3:  60% [0:00:01 of 0:00:03 remaining]\n",
      "Chain 3:  70% [0:00:01 of 0:00:03 remaining]\n",
      "Chain 3:  80% [0:00:01 of 0:00:03 remaining]\n",
      "Chain 3:  90% [0:00:00 of 0:00:03 remaining]\n",
      "Chain 3: 100% [0:00:00 of 0:00:03 remaining]\n",
      "\n"
     ]
    },
    {
     "output_type": "execute_result",
     "data": {
      "text/plain": "Object of type \"ModelChains\"\n\nIterations = 1001:10000\nThinning interval = 1\nChains = 1,2,3\nSamples per chain = 9000\n\n[24.9151 154.223 0.910975; 28.9412 154.223 0.910975; … ; 30.9348 154.868 0.81032; 31.3837 154.82 0.905846]\n\n[27.7931 154.833 0.895606; 28.8957 154.433 0.879357; … ; 24.4363 154.221 0.885701; 26.1145 154.894 0.921221]\n\n[27.1051 154.187 0.900425; 22.1019 154.152 0.869584; … ; 25.8846 154.606 0.847487; 27.5717 154.686 0.836989]"
     },
     "metadata": {},
     "execution_count": 7
    }
   ],
   "cell_type": "code",
   "source": [
    "chn = mcmc(model, line, inits, 10000, burnin=1000, chains=3)"
   ],
   "metadata": {},
   "execution_count": 7
  },
  {
   "outputs": [],
   "cell_type": "markdown",
   "source": [
    "Show draws summary"
   ],
   "metadata": {}
  },
  {
   "outputs": [
    {
     "name": "stdout",
     "output_type": "stream",
     "text": [
      "Iterations = 1001:10000\n",
      "Thinning interval = 1\n",
      "Chains = 1,2,3\n",
      "Samples per chain = 9000\n",
      "\n",
      "Empirical Posterior Estimates:\n",
      "            Mean         SD        Naive SE        MCSE        ESS  \n",
      "     s2  26.1808285 1.987645818 0.01209642723 0.02096218060 8990.940\n",
      "beta[1] 154.6007456 0.268759623 0.00163561898 0.00368432994 5321.218\n",
      "beta[2]   0.9050737 0.042271503 0.00025725617 0.00030863195 9000.000\n",
      "\n",
      "Quantiles:\n",
      "            2.5%       25.0%       50.0%        75.0%        97.5%   \n",
      "     s2  22.5708796  24.8109076  26.0765976  27.45009116  30.40000216\n",
      "beta[1] 154.0763392 154.4204393 154.5978358 154.78141263 155.13160391\n",
      "beta[2]   0.8209637   0.8773362   0.9050824   0.93292768   0.98888507\n",
      "\n"
     ]
    }
   ],
   "cell_type": "code",
   "source": [
    "describe(chn)"
   ],
   "metadata": {},
   "execution_count": 8
  },
  {
   "outputs": [],
   "cell_type": "markdown",
   "source": [
    "End of `m4.1m.jl`"
   ],
   "metadata": {}
  },
  {
   "outputs": [],
   "cell_type": "markdown",
   "source": [
    "*This notebook was generated using [Literate.jl](https://github.com/fredrikekre/Literate.jl).*"
   ],
   "metadata": {}
  }
 ],
 "nbformat_minor": 3,
 "metadata": {
  "language_info": {
   "file_extension": ".jl",
   "mimetype": "application/julia",
   "name": "julia",
   "version": "1.2.0-DEV.283"
  },
  "kernelspec": {
   "name": "julia-1.2",
   "display_name": "Julia 1.2.0-DEV.283",
   "language": "julia"
  }
 },
 "nbformat": 4
}
